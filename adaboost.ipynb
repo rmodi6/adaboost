{
 "cells": [
  {
   "cell_type": "code",
   "execution_count": 3,
   "metadata": {},
   "outputs": [],
   "source": [
    "%config IPCompleter.greedy=True"
   ]
  },
  {
   "cell_type": "code",
   "execution_count": 29,
   "metadata": {},
   "outputs": [],
   "source": [
    "import argparse\n",
    "import sys\n",
    "\n",
    "import math\n",
    "import pandas as pd\n",
    "import numpy as np\n",
    "import matplotlib.pyplot as plt"
   ]
  },
  {
   "cell_type": "code",
   "execution_count": 5,
   "metadata": {},
   "outputs": [
    {
     "ename": "AttributeError",
     "evalue": "'Namespace' object has no attribute 'train_dataset'",
     "output_type": "error",
     "traceback": [
      "\u001b[0;31m---------------------------------------------------------------------------\u001b[0m",
      "\u001b[0;31mAttributeError\u001b[0m                            Traceback (most recent call last)",
      "\u001b[0;32m<ipython-input-5-a621e57ec7c0>\u001b[0m in \u001b[0;36m<module>\u001b[0;34m\u001b[0m\n\u001b[1;32m     12\u001b[0m \u001b[0;34m\u001b[0m\u001b[0m\n\u001b[1;32m     13\u001b[0m     \u001b[0;31m# Get the filenames for the training and testing data along with the filenames of their target values data\u001b[0m\u001b[0;34m\u001b[0m\u001b[0;34m\u001b[0m\u001b[0;34m\u001b[0m\u001b[0m\n\u001b[0;32m---> 14\u001b[0;31m     \u001b[0mtrain_file\u001b[0m\u001b[0;34m,\u001b[0m \u001b[0mtest_file\u001b[0m \u001b[0;34m=\u001b[0m \u001b[0mstr\u001b[0m\u001b[0;34m(\u001b[0m\u001b[0margs\u001b[0m\u001b[0;34m.\u001b[0m\u001b[0mtrain_dataset\u001b[0m\u001b[0;34m)\u001b[0m\u001b[0;34m,\u001b[0m \u001b[0mstr\u001b[0m\u001b[0;34m(\u001b[0m\u001b[0margs\u001b[0m\u001b[0;34m.\u001b[0m\u001b[0mtest_dataset\u001b[0m\u001b[0;34m)\u001b[0m\u001b[0;34m\u001b[0m\u001b[0;34m\u001b[0m\u001b[0m\n\u001b[0m\u001b[1;32m     15\u001b[0m     \u001b[0my_train_file\u001b[0m\u001b[0;34m,\u001b[0m \u001b[0my_test_file\u001b[0m \u001b[0;34m=\u001b[0m \u001b[0mtrain_file\u001b[0m\u001b[0;34m.\u001b[0m\u001b[0mreplace\u001b[0m\u001b[0;34m(\u001b[0m\u001b[0;34m'.csv'\u001b[0m\u001b[0;34m,\u001b[0m \u001b[0;34m'_label.csv'\u001b[0m\u001b[0;34m)\u001b[0m\u001b[0;34m,\u001b[0m \u001b[0mtest_file\u001b[0m\u001b[0;34m.\u001b[0m\u001b[0mreplace\u001b[0m\u001b[0;34m(\u001b[0m\u001b[0;34m'.csv'\u001b[0m\u001b[0;34m,\u001b[0m \u001b[0;34m'_label.csv'\u001b[0m\u001b[0;34m)\u001b[0m\u001b[0;34m\u001b[0m\u001b[0;34m\u001b[0m\u001b[0m\n\u001b[1;32m     16\u001b[0m     \u001b[0;31m# Get the dataframes for training and testing data\u001b[0m\u001b[0;34m\u001b[0m\u001b[0;34m\u001b[0m\u001b[0;34m\u001b[0m\u001b[0m\n",
      "\u001b[0;31mAttributeError\u001b[0m: 'Namespace' object has no attribute 'train_dataset'"
     ]
    }
   ],
   "source": [
    "if __name__ == '__main__':\n",
    "    # Argument parser to parse command line arguments\n",
    "    parser = argparse.ArgumentParser()\n",
    "\n",
    "    parser.add_argument('--dataset', dest='dataset_path', action='store', type=str, help='path to dataset')\n",
    "    parser.add_argument('--mode', dest='mode', action='store', type=str, help='mode of algorithm', default='erm')\n",
    "\n",
    "#     args = parser.parse_args('--dataset /home/rmodi/Documents/20_Spring/CSE512/hw1/Breast_cancer_data.csv --mode erm'.split())\n",
    "#     args = parser.parse_args('--dataset /home/rmodi/Documents/20_Spring/CSE512/hw1/Breast_cancer_data.csv --mode cfv'.split())\n",
    "    args = parser.parse_args('--dataset /home/rmodi/Documents/20_Spring/CSE512/hw1/linearly-separable-dataset.csv --mode erm'.split())\n",
    "#     args = parser.parse_args('--dataset /home/rmodi/Documents/20_Spring/CSE512/hw1/linearly-separable-dataset.csv --mode cfv'.split())\n",
    "\n",
    "    # Get the filenames for the training and testing data along with the filenames of their target values data\n",
    "    train_file, test_file = str(args.train_dataset), str(args.test_dataset)\n",
    "    y_train_file, y_test_file = train_file.replace('.csv', '_label.csv'), test_file.replace('.csv', '_label.csv')\n",
    "    # Get the dataframes for training and testing data\n",
    "    X_train, X_test, y_train, y_test = train_test_split(train_file, test_file, y_train_file, y_test_file)\n",
    "\n",
    "    # Create a ID3DecisionTree model and fit the model for the given training data\n",
    "    model = ID3DecisionTree(args.p_value_threshold).fit(X_train, y_train)\n",
    "    model.save(args.decision_tree)  # Save the model at the specified location\n",
    "\n",
    "    preds = model.predict(X_test)  # Get the predictions for the test dataset\n",
    "    preds.to_csv(args.output_file, header=False, index=False)  # Write the predictions to the output file\n",
    "\n",
    "    print('Number of internal nodes: {} \\nNumber of leaf nodes: {}'.format(model.internal_nodes_count,\n",
    "                                                                           model.leaf_nodes_count))\n",
    "    if y_test is not None:\n",
    "        accuracy = accuracy_score(y_test, preds)  # Calculate accuracy if the target values for test data is given\n",
    "        print('Model Accuracy: {}'.format(accuracy))\n"
   ]
  },
  {
   "cell_type": "code",
   "execution_count": 6,
   "metadata": {},
   "outputs": [],
   "source": [
    "df = pd.read_csv(args.dataset_path)"
   ]
  },
  {
   "cell_type": "code",
   "execution_count": 7,
   "metadata": {},
   "outputs": [
    {
     "data": {
      "text/html": [
       "<div>\n",
       "<style scoped>\n",
       "    .dataframe tbody tr th:only-of-type {\n",
       "        vertical-align: middle;\n",
       "    }\n",
       "\n",
       "    .dataframe tbody tr th {\n",
       "        vertical-align: top;\n",
       "    }\n",
       "\n",
       "    .dataframe thead th {\n",
       "        text-align: right;\n",
       "    }\n",
       "</style>\n",
       "<table border=\"1\" class=\"dataframe\">\n",
       "  <thead>\n",
       "    <tr style=\"text-align: right;\">\n",
       "      <th></th>\n",
       "      <th>x1</th>\n",
       "      <th>x2</th>\n",
       "      <th>y</th>\n",
       "    </tr>\n",
       "  </thead>\n",
       "  <tbody>\n",
       "    <tr>\n",
       "      <th>0</th>\n",
       "      <td>0.876607</td>\n",
       "      <td>3.007882</td>\n",
       "      <td>1</td>\n",
       "    </tr>\n",
       "    <tr>\n",
       "      <th>1</th>\n",
       "      <td>0.229373</td>\n",
       "      <td>0.661393</td>\n",
       "      <td>0</td>\n",
       "    </tr>\n",
       "    <tr>\n",
       "      <th>2</th>\n",
       "      <td>0.241416</td>\n",
       "      <td>1.610415</td>\n",
       "      <td>1</td>\n",
       "    </tr>\n",
       "    <tr>\n",
       "      <th>3</th>\n",
       "      <td>0.831164</td>\n",
       "      <td>1.879528</td>\n",
       "      <td>0</td>\n",
       "    </tr>\n",
       "    <tr>\n",
       "      <th>4</th>\n",
       "      <td>0.309244</td>\n",
       "      <td>0.663247</td>\n",
       "      <td>0</td>\n",
       "    </tr>\n",
       "  </tbody>\n",
       "</table>\n",
       "</div>"
      ],
      "text/plain": [
       "         x1        x2  y\n",
       "0  0.876607  3.007882  1\n",
       "1  0.229373  0.661393  0\n",
       "2  0.241416  1.610415  1\n",
       "3  0.831164  1.879528  0\n",
       "4  0.309244  0.663247  0"
      ]
     },
     "execution_count": 7,
     "metadata": {},
     "output_type": "execute_result"
    }
   ],
   "source": [
    "df.head()"
   ]
  },
  {
   "cell_type": "code",
   "execution_count": 8,
   "metadata": {},
   "outputs": [],
   "source": [
    "y = df.iloc[:, -1].values\n",
    "y = np.where(y == 0, -1, 1)"
   ]
  },
  {
   "cell_type": "code",
   "execution_count": 9,
   "metadata": {},
   "outputs": [
    {
     "data": {
      "text/plain": [
       "(1151,)"
      ]
     },
     "execution_count": 9,
     "metadata": {},
     "output_type": "execute_result"
    }
   ],
   "source": [
    "y.shape"
   ]
  },
  {
   "cell_type": "code",
   "execution_count": 10,
   "metadata": {},
   "outputs": [],
   "source": [
    "X = df.iloc[:, :-1].values"
   ]
  },
  {
   "cell_type": "code",
   "execution_count": 11,
   "metadata": {},
   "outputs": [
    {
     "data": {
      "text/plain": [
       "(1151, 2)"
      ]
     },
     "execution_count": 11,
     "metadata": {},
     "output_type": "execute_result"
    }
   ],
   "source": [
    "X.shape"
   ]
  },
  {
   "cell_type": "code",
   "execution_count": 12,
   "metadata": {},
   "outputs": [
    {
     "data": {
      "text/plain": [
       "array([[0.8766075 , 3.00788153],\n",
       "       [0.22937269, 0.66139291],\n",
       "       [0.24141585, 1.61041534],\n",
       "       ...,\n",
       "       [0.11625614, 0.94551889],\n",
       "       [0.74495011, 1.12962314],\n",
       "       [0.22731161, 1.41663829]])"
      ]
     },
     "execution_count": 12,
     "metadata": {},
     "output_type": "execute_result"
    }
   ],
   "source": [
    "X"
   ]
  },
  {
   "cell_type": "code",
   "execution_count": 13,
   "metadata": {},
   "outputs": [],
   "source": [
    "m, d = X.shape"
   ]
  },
  {
   "cell_type": "code",
   "execution_count": 14,
   "metadata": {},
   "outputs": [],
   "source": [
    "D = np.array([1/m for i in range(m)])"
   ]
  },
  {
   "cell_type": "code",
   "execution_count": 15,
   "metadata": {},
   "outputs": [
    {
     "data": {
      "text/plain": [
       "(1151,)"
      ]
     },
     "execution_count": 15,
     "metadata": {},
     "output_type": "execute_result"
    }
   ],
   "source": [
    "D.shape"
   ]
  },
  {
   "cell_type": "code",
   "execution_count": 16,
   "metadata": {},
   "outputs": [
    {
     "name": "stdout",
     "output_type": "stream",
     "text": [
      "0.04088599619575878 0\n"
     ]
    }
   ],
   "source": [
    "m, d = X.shape\n",
    "F_star, theta_star, j_star = float('inf'), 0, 0\n",
    "for j in range(d):\n",
    "    xj = np.sort(X[:, j])\n",
    "    xj = np.append(xj, xj[-1] + 1)\n",
    "    F = np.sum(np.where(y == 1, 1, 0) * D)\n",
    "    if F < F_star:\n",
    "        F_star, theta_star, j_star = F, xj[0] - 1, j\n",
    "    for i in range(m):\n",
    "        F = F - y[i]*D[i]\n",
    "        if F < F_star and i < (m-1) and xj[i] != xj[i+1]:\n",
    "            F_star, theta_star, j_star = F, (xj[i] + xj[i+1])/2, j\n",
    "print(theta_star, j_star)"
   ]
  },
  {
   "cell_type": "code",
   "execution_count": 17,
   "metadata": {},
   "outputs": [],
   "source": [
    "def weak_learner(X, y, D):\n",
    "    m, d = X.shape\n",
    "    F_star, theta_star, j_star = float('inf'), 0, 0\n",
    "    for j in range(d):\n",
    "        xj = np.sort(X[:, j])\n",
    "        xj = np.append(xj, xj[-1] + 1)\n",
    "        F = np.sum(np.where(y == 1, 1, 0) * D)\n",
    "        if F < F_star:\n",
    "            F_star, theta_star, j_star = F, xj[0] - 1, j\n",
    "        for i in range(m):\n",
    "            F = F - y[i]*D[i]\n",
    "            if F < F_star and i < (m-1) and xj[i] != xj[i+1]:\n",
    "                F_star, theta_star, j_star = F, (xj[i] + xj[i+1])/2, j\n",
    "    return theta_star, j_star"
   ]
  },
  {
   "cell_type": "code",
   "execution_count": 64,
   "metadata": {},
   "outputs": [],
   "source": [
    "D = np.array([1/m for i in range(m)])\n",
    "T = 10\n",
    "weak_learners, errors, weights = [], [], []\n",
    "\n",
    "for t in range(T):\n",
    "    weak_learners.append(weak_learner(X, y, D))\n",
    "    theta, j = weak_learners[-1]\n",
    "    preds = np.where((theta - X[:, j]) <= 0, 1, -1)\n",
    "    error = np.sum(D[np.where(preds != y)])\n",
    "    errors.append(error)\n",
    "    w = 0.5 * math.log(1/error - 1)\n",
    "    weights.append(w)\n",
    "    D = D * np.exp(-w * y * preds)\n",
    "    D = D / sum(D)"
   ]
  },
  {
   "cell_type": "code",
   "execution_count": 65,
   "metadata": {},
   "outputs": [
    {
     "data": {
      "text/plain": [
       "[-0.01824702921528571,\n",
       " -6.342686284972269e-05,\n",
       " -2.2648549702353708e-14,\n",
       " 5.773159728050781e-15,\n",
       " 4.662936703425635e-15,\n",
       " 1.7763568394002473e-15,\n",
       " 1.7763568394002473e-15,\n",
       " 1.5543122344752168e-15,\n",
       " -3.197442310920553e-14,\n",
       " 1.5987211554602e-14]"
      ]
     },
     "execution_count": 65,
     "metadata": {},
     "output_type": "execute_result"
    }
   ],
   "source": [
    "weights"
   ]
  },
  {
   "cell_type": "code",
   "execution_count": 71,
   "metadata": {},
   "outputs": [],
   "source": [
    "preds = np.zeros(y.shape)\n",
    "for i, learner in enumerate(weak_learners):\n",
    "    theta, j = learner\n",
    "    preds = preds + weights[i] * np.where((theta - X[:, j]) <= 0, 1, -1)\n",
    "preds = np.where(preds <= 0, 1, -1)"
   ]
  },
  {
   "cell_type": "code",
   "execution_count": 76,
   "metadata": {},
   "outputs": [
    {
     "data": {
      "text/plain": [
       "0.5091225021720244"
      ]
     },
     "execution_count": 76,
     "metadata": {},
     "output_type": "execute_result"
    }
   ],
   "source": [
    "len(np.where(preds != y)[0])/m"
   ]
  },
  {
   "cell_type": "code",
   "execution_count": 78,
   "metadata": {},
   "outputs": [
    {
     "data": {
      "text/plain": [
       "(1151,)"
      ]
     },
     "execution_count": 78,
     "metadata": {},
     "output_type": "execute_result"
    }
   ],
   "source": [
    "y.shape"
   ]
  },
  {
   "cell_type": "code",
   "execution_count": 40,
   "metadata": {},
   "outputs": [],
   "source": [
    "k = 10"
   ]
  },
  {
   "cell_type": "code",
   "execution_count": 41,
   "metadata": {},
   "outputs": [],
   "source": [
    "s = int(m/k)"
   ]
  },
  {
   "cell_type": "code",
   "execution_count": 49,
   "metadata": {},
   "outputs": [],
   "source": [
    "batches = []\n",
    "for i in range(k):\n",
    "    start_index, end_index = s*i, s*(i+1)\n",
    "    if i < (k-1):\n",
    "        batches.append((X[start_index:end_index], y[start_index:end_index]))\n",
    "    else:\n",
    "        batches.append((X[start_index:], y[start_index:]))"
   ]
  },
  {
   "cell_type": "code",
   "execution_count": 129,
   "metadata": {},
   "outputs": [
    {
     "name": "stdout",
     "output_type": "stream",
     "text": [
      "(513, 6) (513,) (56, 6) (56,)\n",
      "(513, 6) (513,)\n",
      "(513, 6) (513,) (56, 6) (56,)\n",
      "(513, 6) (513,)\n",
      "(513, 6) (513,) (56, 6) (56,)\n",
      "(513, 6) (513,)\n",
      "(513, 6) (513,) (56, 6) (56,)\n",
      "(513, 6) (513,)\n",
      "(513, 6) (513,) (56, 6) (56,)\n",
      "(513, 6) (513,)\n",
      "(513, 6) (513,) (56, 6) (56,)\n",
      "(513, 6) (513,)\n",
      "(513, 6) (513,) (56, 6) (56,)\n",
      "(513, 6) (513,)\n",
      "(513, 6) (513,) (56, 6) (56,)\n",
      "(513, 6) (513,)\n",
      "(513, 6) (513,) (56, 6) (56,)\n",
      "(513, 6) (513,)\n",
      "(504, 6) (504,) (65, 6) (65,)\n",
      "(504, 6) (504,)\n"
     ]
    }
   ],
   "source": [
    "weights, errors = [], []\n",
    "for i in range(k):\n",
    "    train_X, train_y, test_X, test_y = None, None, None, None\n",
    "    for j, (X, y) in enumerate(batches):\n",
    "        if j == i:\n",
    "            test_X, test_y = X, y\n",
    "        else:\n",
    "            if train_X is None:\n",
    "                train_X, train_y = X, y\n",
    "            else:\n",
    "                train_X, train_y = np.append(train_X, X, axis=0), np.append(train_y, y)\n",
    "    print(train_X.shape, train_y.shape, test_X.shape, test_y.shape)\n",
    "    weights.append(train(train_X, train_y))\n",
    "    errors.append(error(test_X, test_y, weights[-1]))"
   ]
  },
  {
   "cell_type": "code",
   "execution_count": 131,
   "metadata": {},
   "outputs": [
    {
     "data": {
      "text/plain": [
       "[array([ 1602637.45498681, -1247268.25006665,  1628099.43005266,\n",
       "         -204412.19999828,   -59284.70236942,   191473.        ]),\n",
       " array([ 2061219.55899115, -1489749.3300563 ,  1841053.93003564,\n",
       "         -287797.499992  ,   -81079.01394892,   243417.        ]),\n",
       " array([ 2047713.44498159, -1360180.17003455,  1739391.33005863,\n",
       "         -226420.59999183,   -80136.07178945,   253555.        ]),\n",
       " array([ 2009539.39298381, -1416394.85005213,  1769030.36007114,\n",
       "         -280931.69998831,   -81102.31230948,   228800.        ]),\n",
       " array([ 1944952.22598135, -1849668.45006975,  1883146.68005439,\n",
       "         -285094.19999497,   -80257.83340868,   236207.        ]),\n",
       " array([ 2122866.92897787, -1533106.42006614,  1877690.9600713 ,\n",
       "         -296382.49999435,   -82754.275769  ,   257613.        ]),\n",
       " array([ 1985263.04199866, -1375389.07004903,  1778656.9600699 ,\n",
       "         -285086.39999348,   -79784.25563902,   244951.        ]),\n",
       " array([ 2049833.86696853, -1561224.00004747,  1808875.69007162,\n",
       "         -232287.89998913,   -83891.9884591 ,   254419.        ]),\n",
       " array([ 1942923.83501287, -1848332.54004643,  1871529.45003241,\n",
       "         -285171.69998592,   -79727.45217913,   242379.        ]),\n",
       " array([ 2045116.4149804 , -1826983.18003458,  1851661.48008501,\n",
       "         -283270.89998495,   -85396.12816916,   254183.        ])]"
      ]
     },
     "execution_count": 131,
     "metadata": {},
     "output_type": "execute_result"
    }
   ],
   "source": [
    "weights"
   ]
  },
  {
   "cell_type": "code",
   "execution_count": 133,
   "metadata": {},
   "outputs": [
    {
     "data": {
      "text/plain": [
       "13.1"
      ]
     },
     "execution_count": 133,
     "metadata": {},
     "output_type": "execute_result"
    }
   ],
   "source": [
    "np.mean(errors)"
   ]
  },
  {
   "cell_type": "code",
   "execution_count": 125,
   "metadata": {},
   "outputs": [
    {
     "data": {
      "text/plain": [
       "array([151893.0080001 , -89538.88000133, 169260.5800028 , -26270.40000008,\n",
       "        -4187.06775   ,  19006.        ])"
      ]
     },
     "execution_count": 125,
     "metadata": {},
     "output_type": "execute_result"
    }
   ],
   "source": [
    "w"
   ]
  },
  {
   "cell_type": "code",
   "execution_count": null,
   "metadata": {},
   "outputs": [],
   "source": []
  }
 ],
 "metadata": {
  "kernelspec": {
   "display_name": "ml-hw1",
   "language": "python",
   "name": "ml-hw1"
  },
  "language_info": {
   "codemirror_mode": {
    "name": "ipython",
    "version": 3
   },
   "file_extension": ".py",
   "mimetype": "text/x-python",
   "name": "python",
   "nbconvert_exporter": "python",
   "pygments_lexer": "ipython3",
   "version": "3.7.5"
  }
 },
 "nbformat": 4,
 "nbformat_minor": 4
}
